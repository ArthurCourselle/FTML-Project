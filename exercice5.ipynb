{
 "cells": [
  {
   "cell_type": "markdown",
   "id": "c97d7a65-de3f-4791-bd96-ebdab93afdfd",
   "metadata": {},
   "source": [
    "# Classification on a given dataset"
   ]
  },
  {
   "cell_type": "markdown",
   "id": "f6fe79eb-9c82-4026-95a9-3e5ec1b4c84a",
   "metadata": {},
   "source": [
    "We first import the necessary libraries for the exercice and load the data from the given files"
   ]
  },
  {
   "cell_type": "code",
   "execution_count": 101,
   "id": "6bb32e6f-79c0-4d73-a9bd-ca15f0b54846",
   "metadata": {},
   "outputs": [],
   "source": [
    "import numpy as np\n",
    "import pandas as pd\n",
    "from sklearn.model_selection import GridSearchCV, train_test_split\n",
    "from sklearn.metrics import accuracy_score\n",
    "from sklearn.preprocessing import StandardScaler\n",
    "from sklearn.svm import SVC\n",
    "from sklearn.neighbors import KNeighborsClassifier\n",
    "from sklearn.ensemble import VotingClassifier\n",
    "\n",
    "def load_data():\n",
    "    path = \"data/classification/\"\n",
    "    X_train = np.load(path + \"X_train.npy\")\n",
    "    y_train = np.load(path + \"y_train.npy\")\n",
    "    X_test = np.load(path + \"X_test.npy\")\n",
    "    y_test = np.load(path + \"y_test.npy\")\n",
    "    return X_train, y_train, X_test, y_test\n",
    "\n",
    "X_train, y_train, X_test, y_test = load_data()"
   ]
  },
  {
   "cell_type": "markdown",
   "id": "c39e9c86-7044-4fe9-a02e-ea8cd03ad54c",
   "metadata": {},
   "source": [
    "# Data analysis\n",
    "\n",
    "Before trying anything on the classification. We analyse the train data, see the different classes and the repartition of the different classes"
   ]
  },
  {
   "cell_type": "code",
   "execution_count": 102,
   "id": "42a50830-7324-42ae-bb4b-0a2d12043abd",
   "metadata": {},
   "outputs": [
    {
     "name": "stdout",
     "output_type": "stream",
     "text": [
      "X_train shape: (2000, 30)\n",
      "y_train shape: (2000,)\n",
      "Missing values in X_train: 0\n",
      "Missing values in X_test: 0\n",
      "Feature means (train): [ 0.00278456  0.0258194  -0.02816605 -0.02500212  0.00163257]\n",
      "Feature stds (train): [0.97941116 0.98730757 0.97436539 0.96622428 2.54260032]\n",
      "Class distribution: {0: 1019, 1: 981}\n"
     ]
    },
    {
     "data": {
      "image/png": "[encoded data removed]",
      "text/plain": [
       "<Figure size 640x480 with 1 Axes>"
      ]
     },
     "metadata": {},
     "output_type": "display_data"
    }
   ],
   "source": [
    "print(\"X_train shape:\", X_train.shape)\n",
    "print(\"y_train shape:\", y_train.shape)\n",
    "\n",
    "print(\"Missing values in X_train:\", np.isnan(X_train).sum())\n",
    "print(\"Missing values in X_test:\", np.isnan(X_test).sum())\n",
    "\n",
    "print(\"Feature means (train):\", np.mean(X_train, axis=0)[:5])\n",
    "print(\"Feature stds (train):\", np.std(X_train, axis=0)[:5])\n",
    "\n",
    "unique_classes, counts = np.unique(y_train, return_counts=True)\n",
    "print(\"Class distribution:\", dict(zip(unique_classes, counts)))\n",
    "\n",
    "sns.countplot(x=y_train)\n",
    "plt.title(\"Training Label Distribution\")\n",
    "plt.xlabel(\"Class\")\n",
    "plt.ylabel(\"Count\")\n",
    "plt.grid(True)\n",
    "plt.show()\n"
   ]
  },
  {
   "cell_type": "markdown",
   "id": "02e684ef-b66a-41d7-88de-1223c41795f6",
   "metadata": {},
   "source": [
    "## 📊 Dataset Analysis\n",
    "\n",
    "- The dataset contains **2000 training samples** with **30 features**.\n",
    "- The **target variable** is **binary** and **evenly balanced** between class 0 and class 1.\n",
    "- There are **no missing values** in either the training or test sets.\n",
    "- Feature values are already **approximately standardized**:\n",
    "  - Means are close to 0\n",
    "  - Most standard deviations are close to 1, with one slightly higher (~2.5)\n",
    "- Moderate dimensionality (p < n)\n"
   ]
  },
  {
   "cell_type": "markdown",
   "id": "af059f55-bb8a-478d-93de-3eb7c09fe3a2",
   "metadata": {},
   "source": [
    "# Data preprocessing\n",
    "\n",
    "We will use a scaller on a separate value to test its influence on scores"
   ]
  },
  {
   "cell_type": "code",
   "execution_count": 103,
   "id": "1398ff30-4267-4bcb-9625-ff883421263d",
   "metadata": {},
   "outputs": [],
   "source": [
    "scaler = StandardScaler()\n",
    "X_train_scaled = scaler.fit_transform(X_train)\n",
    "X_test_scaled = scaler.transform(X_test)\n",
    "\n",
    "models = {}"
   ]
  },
  {
   "cell_type": "markdown",
   "id": "f8e92119-ea5d-4dc9-b7b3-9f3e3f7cd28a",
   "metadata": {},
   "source": [
    "# Logistic Regression\n",
    "\n",
    "We will use the linear regression as a base score to compare other models."
   ]
  },
  {
   "cell_type": "code",
   "execution_count": 104,
   "id": "cd730727-4a61-45dc-bd00-19a41b8624a6",
   "metadata": {},
   "outputs": [
    {
     "name": "stdout",
     "output_type": "stream",
     "text": [
      "Linear Regression Test Accuracy (rounded prediction): 0.7435\n",
      "Linear Regression Test Accuracy (rounded prediction): 0.7440\n"
     ]
    }
   ],
   "source": [
    "def logistic_Regression(X_train, X_test, y_train, y_test):\n",
    "    linreg = LogisticRegression()\n",
    "    linreg.fit(X_train, y_train)\n",
    "    \n",
    "    y_pred_linreg = linreg.predict(X_test)\n",
    "    y_pred_class = (y_pred_linreg >= 0.5).astype(int)\n",
    "    \n",
    "    accuracy_linreg = accuracy_score(y_test, y_pred_class)\n",
    "    print(f\"Linear Regression Test Accuracy (rounded prediction): {accuracy_linreg:.4f}\")\n",
    "    return accuracy_linreg\n",
    "\n",
    "linear_acc =  logistic_Regression(X_train, X_test, y_train, y_test)\n",
    "linear_acc_scaled =  logistic_Regression(X_train_scaled, X_test_scaled, y_train, y_test)\n"
   ]
  },
  {
   "cell_type": "markdown",
   "id": "34382d11-61c5-4e7d-81d0-50c85ea9c8ad",
   "metadata": {},
   "source": [
    "# Support Vector Classifier (SVC)\n",
    "\n",
    "The goal of SVC is to determine a frontier between the 0 and 1 classes.  \n",
    "In this algorithm, we have to be careful, as Maximum Margin Classifiers are very sensitive to outliers.  \n",
    "We therefore need a threshold (`C` parameter) that allows misclassifications when necessary to improve generalization.\n",
    "\n",
    "We will try three different approaches to draw that decision boundary:\n",
    "\n",
    "- **Linear kernel**: builds a straight line as the frontier between classes.\n",
    "- **RBF kernel**: draws a Gaussian-shaped curve to separate the data.\n",
    "- **Polynomial kernel**: builds a polynomial curve to adapt to more complex patterns.\n",
    "\n",
    "\n",
    "To maximize the model’s accuracy, we will tune important **hyperparameters** (`C`, `degree`, `gamma`, `coef0`) for each kernel.  \n",
    "Here, `degree` controls the complexity of the polynomial kernel, `gamma` defines how far the influence of a single training example reaches (used in RBF and poly), and `coef0` is a constant term that affects how flexible the polynomial decision boundary is.\n",
    "\n",
    "Hopefully, we will be able to draw conclusions about the data from the different results and see which model fits the task best.\n"
   ]
  },
  {
   "cell_type": "code",
   "execution_count": 105,
   "id": "afb1f721-9076-42d5-b288-2949e24c7212",
   "metadata": {},
   "outputs": [
    {
     "name": "stdout",
     "output_type": "stream",
     "text": [
      "Accuracy SVC with kernel linear (unscaled): 0.7510\n",
      "Parameters (unscaled): {'C': 0.01}\n",
      "\n",
      "Accuracy SVC with kernel linear (scaled): 0.7490\n",
      "Parameters (scaled): {'C': 1}\n",
      "\n",
      "Accuracy SVC with kernel rbf (unscaled): 0.7945\n",
      "Parameters (unscaled): {'C': 10, 'gamma': 0.1}\n",
      "\n",
      "Accuracy SVC with kernel rbf (scaled): 0.8000\n",
      "Parameters (scaled): {'C': 10, 'gamma': 0.1}\n",
      "\n",
      "Accuracy SVC with kernel poly (unscaled): 0.8995\n",
      "Parameters (unscaled): {'C': 0.03, 'coef0': 0, 'degree': 3, 'gamma': 0.1}\n",
      "\n",
      "Accuracy SVC with kernel poly (scaled): 0.8080\n",
      "Parameters (scaled): {'C': 0.03, 'coef0': 1, 'degree': 3, 'gamma': 0.1}\n",
      "\n"
     ]
    }
   ],
   "source": [
    "def get_param(kernel, param):\n",
    "\n",
    "    # sans scaler\n",
    "    grid = GridSearchCV(SVC(kernel=kernel), param, cv=5, scoring='accuracy', n_jobs=-1)\n",
    "\n",
    "    grid.fit(X_train, y_train)\n",
    "    best_model = grid.best_estimator_\n",
    "    best_params = grid.best_params_\n",
    "\n",
    "    y_pred =  best_model.predict(X_test)\n",
    "    test_acc = accuracy_score(y_test, y_pred)\n",
    "\n",
    "    print(f\"Accuracy SVC with kernel {kernel} (unscaled): {test_acc:.4f}\")\n",
    "    print(f\"Parameters (unscaled): {best_params}\\n\")\n",
    "    \n",
    "    # avec scaler\n",
    "    grid = GridSearchCV(SVC(kernel=kernel), param, cv=5, scoring='accuracy', n_jobs=-1)\n",
    "\n",
    "    grid.fit(X_train_scaled, y_train)\n",
    "    best_model = grid.best_estimator_\n",
    "    best_params = grid.best_params_\n",
    "\n",
    "    y_pred =  best_model.predict(X_test_scaled)\n",
    "    test_acc_scalled = accuracy_score(y_test, y_pred)\n",
    "\n",
    "    print(f\"Accuracy SVC with kernel {kernel} (scaled): {test_acc_scalled:.4f}\")\n",
    "    print(f\"Parameters (scaled): {best_params}\\n\")\n",
    "    \n",
    "    return (test_acc, test_acc_scalled)\n",
    "\n",
    "param_grid_linear = {'C': [0.01, 0.1, 1, 10]}\n",
    "(linear_test_acc, linear_test_acc_scalled) = get_param('linear', param_grid_linear)\n",
    "\n",
    "param_grid_rbf = {'C': [0.1, 1, 10], 'gamma': [0.01, 0.1, 1]}\n",
    "(rbf_test_acc, rbf_test_acc_scalled) = get_param('rbf', param_grid_rbf)\n",
    "\n",
    "param_grid_poly = {\n",
    "    'C': [0.03, 0.05, 0.1, 1],\n",
    "    'coef0': [0, 1],\n",
    "    'gamma': [0.01, 0.1],\n",
    "    'degree': [1, 2, 3]\n",
    "}\n",
    "\n",
    "(poly_test_acc, poly_test_acc_scalled) = get_param('poly', param_grid_poly)"
   ]
  },
  {
   "cell_type": "markdown",
   "id": "1b331607-09c9-4eb2-87b4-230617b810f9",
   "metadata": {},
   "source": [
    "### Results SVC\n",
    "\n",
    "The polynomial kernel gives the best results, which suggests that the decision boundaries between classes are neither linear nor easily captured by a Gaussian curve (RBF kernel). Instead, the separation is more complex and better modeled by a polynomial of degree 3.\n",
    "\n",
    "Interestingly, the unscaled data performs better, which may indicate that the feature magnitudes themselves carry meaningful information. Scaling might be distorting this natural structure.\n"
   ]
  },
  {
   "cell_type": "markdown",
   "id": "57c45bf2-ba9d-4f87-bbab-ad501992479b",
   "metadata": {},
   "source": [
    "# K-Nearest Neighbors (KNN)\n",
    "\n",
    "KNN is a learning algorithm that makes predictions by looking at the **K closest samples** in the training set and assigning the most frequent class among them.\n",
    "\n",
    "To optimize performance, we tune several parameters:\n",
    "\n",
    "- **`n_neighbors`**:  Number of neighbors to consider (K). A low value can be sensitive to noise, while a high value may underfit.\n",
    "- **`weights`**:  \n",
    "  - `'uniform'`: all neighbors contribute equally.  \n",
    "  - `'distance'`: closer neighbors contribute more.\n",
    "- **`p`** : \n",
    "  - `p = 1`: Manhattan distance.  \n",
    "  - `p = 2`: Euclidean distance (default).\n",
    "\n",
    "- **`leaf_size`**:  Changes the speed and memory of the algorithm.\n",
    "\n",
    "We compare results with and without scaling to evaluate how much it impacts KNN’s performance.\n"
   ]
  },
  {
   "cell_type": "code",
   "execution_count": 106,
   "id": "b4b72d7d-e37f-476b-a5bf-d15ba318dfbd",
   "metadata": {},
   "outputs": [
    {
     "name": "stdout",
     "output_type": "stream",
     "text": [
      "Accuracy KNN (unscaled): 0.7925\n",
      "Parameters (unscaled): {'leaf_size': 5, 'n_neighbors': 14, 'p': 2, 'weights': 'distance'}\n",
      "\n",
      "Accuracy KNN (scaled): 0.7780\n",
      "Parameters (scaled): {'leaf_size': 5, 'n_neighbors': 18, 'p': 1, 'weights': 'distance'}\n",
      "\n"
     ]
    }
   ],
   "source": [
    "def get_knn_param(param):\n",
    "    # sans scaler\n",
    "    grid = GridSearchCV(KNeighborsClassifier(), param, cv=5, scoring='accuracy', n_jobs=-1)\n",
    "    grid.fit(X_train, y_train)\n",
    "    best_model = grid.best_estimator_\n",
    "    best_param = grid.best_params_\n",
    "    y_pred = best_model.predict(X_test)\n",
    "    test_acc = accuracy_score(y_test, y_pred)\n",
    "    print(f\"Accuracy KNN (unscaled): {test_acc:.4f}\")\n",
    "    print(f\"Parameters (unscaled): {best_param}\\n\")\n",
    "\n",
    "    # avec scaler\n",
    "    grid = GridSearchCV(KNeighborsClassifier(), param, cv=5, scoring='accuracy', n_jobs=-1)\n",
    "    grid.fit(X_train_scaled, y_train)\n",
    "    best_model = grid.best_estimator_\n",
    "    best_param = grid.best_params_\n",
    "    y_pred = best_model.predict(X_test_scaled)\n",
    "    test_acc_scaled = accuracy_score(y_test, y_pred)\n",
    "    print(f\"Accuracy KNN (scaled): {test_acc_scaled:.4f}\")\n",
    "    print(f\"Parameters (scaled): {best_param}\\n\")\n",
    "\n",
    "    return test_acc, test_acc_scaled\n",
    "\n",
    "param_grid_knn = {\n",
    "    'n_neighbors': list(range(1, 21)),\n",
    "    'weights': ['uniform', 'distance'],\n",
    "    'p': [1, 2],  # distance : 1=Manathan 2=Euclidienne\n",
    "    'leaf_size': [5, 10, 20, 30, 50] \n",
    "}\n",
    "\n",
    "(knn_acc, knn_acc_scaled) = get_knn_param(param_grid_knn)\n"
   ]
  },
  {
   "cell_type": "markdown",
   "id": "54663749-f561-46fb-b328-2485d87f9b59",
   "metadata": {},
   "source": [
    "### Results KNN\n",
    "\n",
    "In this case again, the unscaled data gives better performance. This confirms that the original feature scales might contain useful information, here on a distance-based model like KNN. The best results were obtained using the Euclidean distance (`p=2`) and `distance` based weighting, which gives closer neighbors more influence.\n"
   ]
  },
  {
   "cell_type": "markdown",
   "id": "33fd4fdb-cf7a-4dcc-8e13-815540b840c8",
   "metadata": {},
   "source": [
    "# Ensembling\n",
    "\n",
    "Ensembling combines multiple different models to make a final prediction, with the goal of improving overall performance.  \n",
    "Since we’ve already trained several strong classifiers individually, we’ll now test whether combining them can boost accuracy on the test set.\n"
   ]
  },
  {
   "cell_type": "code",
   "execution_count": 107,
   "id": "5deb654c-63ca-4310-b167-3d5358a1d6f8",
   "metadata": {},
   "outputs": [
    {
     "name": "stdout",
     "output_type": "stream",
     "text": [
      "svc individual accuracy: 0.8995\n",
      "knn individual accuracy: 0.7925\n",
      "Ensemble Accuracy (VotingClassifier soft): 0.8715\n",
      "Ensemble Accuracy (VotingClassifier hard): 0.8995\n"
     ]
    }
   ],
   "source": [
    "clf2 = SVC(C=0.03, kernel='poly', coef0=0, gamma=0.1, probability=True)\n",
    "clf3 = KNeighborsClassifier(leaf_size=5, n_neighbors=14, weights='distance', p=2)\n",
    "\n",
    "models = [('svc', clf2), ('knn', clf3)]\n",
    "for name, clf in models:\n",
    "    clf.fit(X_train, y_train)\n",
    "    pred = clf.predict(X_test)\n",
    "    acc = accuracy_score(y_test, pred)\n",
    "    print(f\"{name} individual accuracy: {acc:.4f}\")\n",
    "\n",
    "voting_clf_soft = VotingClassifier(\n",
    "    estimators=[\n",
    "        ('svc', clf2),\n",
    "        ('knn', clf3)\n",
    "    ],\n",
    "    voting='soft',\n",
    "    weights=[3, 2]  # SVC = better accu = bigger weight\n",
    ")\n",
    "\n",
    "voting_clf_hard = VotingClassifier(\n",
    "    estimators=[\n",
    "        ('svc', clf2),\n",
    "        ('knn', clf3)\n",
    "    ],\n",
    "    voting='hard',\n",
    "    weights=[3, 2] # SVC = better accu = bigger weight\n",
    ")\n",
    "\n",
    "voting_clf_soft.fit(X_train, y_train)\n",
    "y_pred = voting_clf_soft.predict(X_test)\n",
    "acc = accuracy_score(y_test, y_pred)\n",
    "print(f\"Ensemble Accuracy (VotingClassifier soft): {acc:.4f}\")\n",
    "\n",
    "voting_clf_hard.fit(X_train, y_train)\n",
    "y_pred = voting_clf_hard.predict(X_test)\n",
    "acc = accuracy_score(y_test, y_pred)\n",
    "print(f\"Ensemble Accuracy (VotingClassifier hard): {acc:.4f}\")"
   ]
  },
  {
   "cell_type": "markdown",
   "id": "d14a80b6-2639-4109-8de4-2612d2c781b0",
   "metadata": {},
   "source": [
    "###  Analysis: Why Ensembling Didn't Improve Accuracy\n",
    "\n",
    "Despite testing both **soft** and **hard** voting strategies (with and without weighting), the ensemble model does **not outperform** the individual SVC classifier.\n",
    "\n",
    "- **Soft Voting** combines class probabilities. Even when giving higher weight to the SVC, the ensemble **lower than the SVC alone (0.8995)**.\n",
    "- **Hard Voting** relies on majority class predictions. When we weight SVC more heavily, the ensemble behaves similarly to the SVC itself—matching but not exceeding its performance.\n",
    "\n",
    "The models in the ensemble tend to make **similar predictions** or when they differ, the weaker models (e.g., KNN or AdaBoost) often introduce noise rather than useful diversity. As a result, the ensemble's vote is pulled slightly away from the strongest model (SVC), reducing overall accuracy. In this case, the ensemble doesn’t help because SVC already performs significantly better, and combining it with less accurate models degrades the final result.\n"
   ]
  }
 ],
 "metadata": {
  "kernelspec": {
   "display_name": "Python 3 (ipykernel)",
   "language": "python",
   "name": "python3"
  },
  "language_info": {
   "codemirror_mode": {
    "name": "ipython",
    "version": 3
   },
   "file_extension": ".py",
   "mimetype": "text/x-python",
   "name": "python",
   "nbconvert_exporter": "python",
   "pygments_lexer": "ipython3",
   "version": "3.10.12"
  }
 },
 "nbformat": 4,
 "nbformat_minor": 5
}
