{
 "cells": [
  {
   "cell_type": "markdown",
   "id": "2cfc7baf",
   "metadata": {},
   "source": [
    "## Bayes Risk with Absolute Loss"
   ]
  },
  {
   "cell_type": "markdown",
   "id": "3f2f1373",
   "metadata": {},
   "source": [
    "### Question 0 (M)"
   ]
  },
  {
   "cell_type": "markdown",
   "id": "0af4257e",
   "metadata": {},
   "source": [
    "The proposed function is $f(x)=x^3$, since the derivative is $f^{'}(x)=2x^2$.  \n",
    "Then, for $x_0=0$, $f^{'}(x_0)=0$ and $f(x_0)$ is not a local extremum."
   ]
  },
  {
   "cell_type": "markdown",
   "id": "90f10113",
   "metadata": {},
   "source": [
    "### Question 1 (M + C)"
   ]
  },
  {
   "cell_type": "markdown",
   "id": "5535ecbe",
   "metadata": {},
   "source": [
    "<!-- To simplify the problem we propose a case where $Y$ is independant.\n",
    " -->\n",
    "Let $X \\leadsto U([0,1])$, we modelise $Y$ as $Y | X = x \\leadsto Exp(x + 1)$.\n",
    "\n",
    "Then : $p_{Y|X}(y|x) = (x+1)e^{-(x+1)y}$\n",
    "\n",
    "For a constant estimator $c$:  \n",
    "$R_{l_{absolute}}(c)=\\int_0^{\\infty}{|y-c|(x+1)e^{-(x+1)y}\\;dy}=\\int_0^c (c-y)(x+1)e^{-(x+1)y}dy+\\int_c^{\\infty}(y-c)(x+1)e^{-(x+1)y}dy= c + \\frac{2}{x+1}e^{-(x+1)c} - \\frac{1}{x+1}$\n",
    "\n",
    "For the squared loss, we have $f^{*}_{l_{squared}}(x)=E[Y|X=x]=\\frac{1}{x+1}$\n",
    "\n",
    "For the absolute loss, we have $f^{*}_{l_{absolute}}(x)=\\frac{\\ln(2)}{x+1}$ (The median of $Y$)\n",
    "\n",
    "The estimator of the asolute loss can be found using $P(Y \\le z | X = x) = \\frac{1}{2}$ (Result proven in Question 2).  \n",
    "Then, $P(Y \\le z | X = x) = \\frac{1}{2} \\Leftrightarrow 1 - e^{-(x+1)m} = \\frac{1}{2} \\Leftrightarrow -(x+1)m = \\ln(\\frac{1}{2}) \\Leftrightarrow m = \\frac{\\ln(2)}{x+1}$\n",
    "\n",
    "If we replace the estimators in the risk of the absolute loss:\n",
    "\n",
    "$R_{l_{absolute}}(f^{*}_{l_{absolute}}(x))= \\frac{\\ln(2)}{x+1} < R_{l_{absolute}}(f^{*}_{l_{squared}}(x))= \\frac{2e^{-1}}{x+1}$\n",
    "$\\Leftrightarrow \\ln(2) < 2e^{-1}$\n",
    "$\\Leftrightarrow 0.6931 < 0.7357$\n",
    "\n",
    "Hence, we have $f^{*}_{l_{squared}} \\ne f^{*}_{l_{absolute}}$"
   ]
  },
  {
   "cell_type": "code",
   "execution_count": 4,
   "id": "a5cc33be",
   "metadata": {},
   "outputs": [
    {
     "name": "stdout",
     "output_type": "stream",
     "text": [
      "Empirical MAE of absolute-loss Bayes predictor: 0.4817\n",
      "Empirical MAE of squared-loss Bayes predictor: 0.5104\n",
      "True\n"
     ]
    }
   ],
   "source": [
    "import numpy as np\n",
    "\n",
    "n_samples = 100000\n",
    "\n",
    "X = np.random.uniform(0, 1, size=n_samples)\n",
    "\n",
    "rates = X + 1\n",
    "Y = np.random.exponential(scale=1/rates)\n",
    "\n",
    "f_squared = 1 / (X + 1)\n",
    "f_absolute = np.log(2) / (X + 1)\n",
    "\n",
    "mae_squared = np.mean(np.abs(Y - f_squared))\n",
    "mae_absolute = np.mean(np.abs(Y - f_absolute))\n",
    "\n",
    "print(f\"Empirical MAE of absolute-loss Bayes predictor: {mae_absolute:.4f}\")\n",
    "print(f\"Empirical MAE of squared-loss Bayes predictor: {mae_squared:.4f}\")\n",
    "print(mae_absolute < mae_squared)"
   ]
  },
  {
   "cell_type": "markdown",
   "id": "51fff9be",
   "metadata": {},
   "source": [
    "### Question 2 (M)"
   ]
  },
  {
   "cell_type": "markdown",
   "id": "4f048a5a",
   "metadata": {},
   "source": [
    "We want to find the bayes predictor of the absolute loss, $f^{*}_{absolute}(x)=\\underset{z\\in\\R}{\\arg\\min}\\; g(z)$. \n",
    "\n",
    "We know :\n",
    "\n",
    "$g(z) = \\int_{\\R}{|y-z|p_{Y|X=x}(y)}\\;dy$\n",
    "\n",
    "$g(z) = \\int_{-\\infty}^{z}{(z-y)p_{Y|X=x}(y)}\\;dy + \\int_{z}^{\\infty}{(y-z)p_{Y|X=x}(y)}\\;dy$\n",
    "\n",
    "Then:\n",
    "\n",
    "$\\frac{d\\;g(z)}{dz} = \\frac{d}{dz} \\int_{\\R}{|y-z|p_{Y|X=x}(y)}\\;dy = \\int_{-\\infty}^{z}{(1)p_{Y|X=x}(y)}\\;dy + \\int_{z}^{\\infty}{(-1)p_{Y|X=x}(y)}\\;dy = 2F_{Y|X=x}(z) - 1$\n",
    "\n",
    "We have:\n",
    "$g'(z) = 2F_{Y|X=x}(z) - 1$\n",
    "\n",
    "We can compute the sign of the second derivative :\n",
    "\n",
    "$g''(z) = \\frac{d}{dz}[2F_{Y|X=x}(z) - 1]$\n",
    "\n",
    "$g''(z) = 2\\frac{d}{dz}F_{Y|X=x}(z) = 2\\frac{d}{dz}\\int_{-\\infty}^{z} p_{Y|X=x}(y) dy = 2p_{Y|X=x}(y)$\n",
    "\n",
    "Therefore:\n",
    "$g''(z) = 2p_{Y|X=x}(z)$\n",
    "\n",
    "\n",
    "Since $p_{Y|X=x}(z)$ is a probability density function, we have $p_{Y|X=x}(z) \\geq 0$ for all $z \\in \\R$\n",
    "\n",
    "Therefore, $g''(z) = 2p_{Y|X=x}(z) \\geq 0$ for all $z$\n",
    "\n",
    "This confirms that $g(z)$ is convex, at the point $g'(z) = 0$ we have a global minimum.\n",
    "\n",
    "\n",
    "Then,\n",
    "\n",
    "$g'(z)=0 \\Leftrightarrow \\int_{-\\infty}^{z}{p_{Y|X=x}(y)}\\;dy = \\int_{z}^{\\infty}{p_{Y|X=x}(y)}\\;dy$  \n",
    "&emsp;&emsp;&emsp;&emsp;&emsp;$\\Leftrightarrow F_{Y|X=x}(z) = 1 - F_{Y|X=x}(z)$  \n",
    "&emsp;&emsp;&emsp;&emsp;&emsp;$\\Leftrightarrow F_{Y|X=x}(z) = \\frac{1}{2}$\n",
    "\n",
    "Finally,  \n",
    "$f^{*}_{absolute}(x) \\in \\{ z \\in \\R, P(Y \\le z | X = x) = \\frac{1}{2}\\} $ (since $p_{Y|X=x}$ is continuous)  \n",
    "\n",
    "We can then conculde that $f^{*}_{absolute}(x)$ is the posterior median of $Y|X=x$."
   ]
  }
 ],
 "metadata": {
  "kernelspec": {
   "display_name": "ing2",
   "language": "python",
   "name": "python3"
  },
  "language_info": {
   "codemirror_mode": {
    "name": "ipython",
    "version": 3
   },
   "file_extension": ".py",
   "mimetype": "text/x-python",
   "name": "python",
   "nbconvert_exporter": "python",
   "pygments_lexer": "ipython3",
   "version": "3.13.2"
  }
 },
 "nbformat": 4,
 "nbformat_minor": 5
}
