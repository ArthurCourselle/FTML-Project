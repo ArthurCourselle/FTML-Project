{
 "cells": [
  {
   "cell_type": "markdown",
   "id": "2c1dbc6c",
   "metadata": {},
   "source": [
    "## Bayes estimator and Bayes risk"
   ]
  },
  {
   "cell_type": "markdown",
   "id": "bf45978f",
   "metadata": {},
   "source": [
    "### Question 1 (M)"
   ]
  },
  {
   "cell_type": "markdown",
   "id": "b3639854",
   "metadata": {},
   "source": [
    "**Problem Modelisation**\n",
    "\n",
    "We study how shooting distance affects the probability of making a basket in basketball. A court measures 28×15 m, but we only consider shots up to the three-point line (7.25 m according to NBA rules).\n",
    "To include half-court shots, we extend the maximum distance to 14 m.\n",
    "\n",
    "Then, we define the input space as $X \\in [0, 14]$ and the output space as $Y \\in \\{0, 1\\}$, where $X$ denotes the distance of the shot and $Y$ the sucess of the shot.  \n",
    "We assume the marginal distribution of $X$ as $X \\leadsto Uniform([0,14])$.\n",
    "\n",
    "Since we want the success probability to decrease as the distance increases, we assume that:  \n",
    "$Y | (X=x) \\leadsto \\mathcal{B}(p(x))$  \n",
    "To simplify the modelisation, we assume that a layup (0m) will score and a long shot from half-court will not (14m).\n",
    "So we define the following linear function: $p(x) = 1 - \\frac{x}{14}$  \n",
    "\n",
    "We choose $l$ as the $0-1$ loss."
   ]
  },
  {
   "cell_type": "markdown",
   "id": "34fce4ec",
   "metadata": {},
   "source": [
    "**Bayes Predictor**\n",
    "\n",
    "Since our loss is the $0-1$ loss, we define our estimator as:  \n",
    "$f^{*}(x)=\\underset{z\\in Y}{\\arg\\min}\\; E_Y[l(Y,z)|X = x] = \\underset{z\\in Y}{\\arg\\min}\\; P(Y \\neq z | X = x) = \\underset{z\\in Y}{\\arg\\min}\\; 1 - P(Y = z | X = x) = \\underset{z\\in Y}{\\arg\\max}\\; P(Y = z | X = x)$\n",
    "\n",
    "Here, $P(Y = 1 | X = x) = p(x) = 1 - \\frac{x}{14}$\n",
    "\n",
    "Then,\n",
    "- If $p(x) > \\frac{1}{2} \\Leftrightarrow x < 7$ then $f^{*}(x)=1$\n",
    "- If $x > 7$ then $f^{*}(x)=0$\n",
    "\n",
    "Hence, the bayes predictor is:\n",
    "$\n",
    "f^{*}(x) =\n",
    "\\begin{cases}\n",
    "  \\;1,   & \\text{if }x \\le 7\\\\\n",
    "  \\;0,    & \\text{if } x > 7\\\\\n",
    "\\end{cases}\n",
    "$\n"
   ]
  },
  {
   "cell_type": "markdown",
   "id": "63266aec",
   "metadata": {},
   "source": [
    "**Bayes Risk**\n",
    "\n",
    "$R^{*} = E_X[P(Y \\neq f^{*}(X))] = E_X[\\min(p(x), 1 - p(x))]$  \n",
    "&emsp;&nbsp;&nbsp;&nbsp;$= \\int_{0}^{14}{\\min(p(x), 1 - p(x))f_X(X)dx}$  \n",
    "&emsp;&nbsp;&nbsp;&nbsp;$= \\int_{0}^{14}{\\min(1 - \\frac{x}{14}, \\frac{x}{14})\\frac{1}{14}dx}$  \n",
    "&emsp;&nbsp;&nbsp;&nbsp;$= \\int_{0}^{7}{\\frac{x}{14}\\frac{1}{14}dx} + \\int_{7}^{14}{(1 - \\frac{x}{14})\\frac{1}{14}dx}$  \n",
    "$R^{*} = 0.125 + 0.125 = 0.25$\n",
    "\n",
    "Then there is 25% of shoots that our bayes predictor will not predict correctly.\n",
    "\n",
    "Of course if the modelisation was based on Steph Curry the Risk will be close to 0."
   ]
  },
  {
   "cell_type": "markdown",
   "id": "15ba743c",
   "metadata": {},
   "source": [
    "### Question 2 (C)"
   ]
  },
  {
   "cell_type": "markdown",
   "id": "82f47218",
   "metadata": {},
   "source": [
    "In the following simulation, we generate 1M samples uniformly over $[0, 14]$ and verify that the empirical generalization error of $f^{*}$ is very close to the Bayes risk ($0.25$), as expected. We also compare to an alternative estimator $\\tilde{f}$, defined by\n",
    "$\n",
    "\\tilde{f}(x) =\n",
    "\\begin{cases}\n",
    "1, & x < 5\\\\\n",
    "0, & x \\ge 5\n",
    "\\end{cases}\n",
    "$  \n",
    "As predicted, the stastistical approximation of the generalization error for $\\tilde{f}$ is strictly higher than the $f^{*}$ generalization error.\n"
   ]
  },
  {
   "cell_type": "code",
   "execution_count": 8,
   "id": "ec06594c",
   "metadata": {},
   "outputs": [
    {
     "data": {
      "application/vnd.microsoft.datawrangler.viewer.v0+json": {
       "columns": [
        {
         "name": "index",
         "rawType": "int64",
         "type": "integer"
        },
        {
         "name": "Estimator",
         "rawType": "object",
         "type": "string"
        },
        {
         "name": "Risk",
         "rawType": "float64",
         "type": "float"
        }
       ],
       "ref": "792e50f1-ad0e-46aa-92fa-0d8207341c6b",
       "rows": [
        [
         "0",
         "f*",
         "0.250046"
        ],
        [
         "1",
         "f~",
         "0.269635"
        ],
        [
         "2",
         "Bayes Risk",
         "0.25"
        ]
       ],
       "shape": {
        "columns": 2,
        "rows": 3
       }
      },
      "text/html": [
       "<div>\n",
       "<style scoped>\n",
       "    .dataframe tbody tr th:only-of-type {\n",
       "        vertical-align: middle;\n",
       "    }\n",
       "\n",
       "    .dataframe tbody tr th {\n",
       "        vertical-align: top;\n",
       "    }\n",
       "\n",
       "    .dataframe thead th {\n",
       "        text-align: right;\n",
       "    }\n",
       "</style>\n",
       "<table border=\"1\" class=\"dataframe\">\n",
       "  <thead>\n",
       "    <tr style=\"text-align: right;\">\n",
       "      <th></th>\n",
       "      <th>Estimator</th>\n",
       "      <th>Risk</th>\n",
       "    </tr>\n",
       "  </thead>\n",
       "  <tbody>\n",
       "    <tr>\n",
       "      <th>0</th>\n",
       "      <td>f*</td>\n",
       "      <td>0.250046</td>\n",
       "    </tr>\n",
       "    <tr>\n",
       "      <th>1</th>\n",
       "      <td>f~</td>\n",
       "      <td>0.269635</td>\n",
       "    </tr>\n",
       "    <tr>\n",
       "      <th>2</th>\n",
       "      <td>Bayes Risk</td>\n",
       "      <td>0.250000</td>\n",
       "    </tr>\n",
       "  </tbody>\n",
       "</table>\n",
       "</div>"
      ],
      "text/plain": [
       "    Estimator      Risk\n",
       "0          f*  0.250046\n",
       "1          f~  0.269635\n",
       "2  Bayes Risk  0.250000"
      ]
     },
     "execution_count": 8,
     "metadata": {},
     "output_type": "execute_result"
    }
   ],
   "source": [
    "import numpy as np\n",
    "import pandas as pd\n",
    "\n",
    "n_samples = int(1e6)\n",
    "\n",
    "X = np.random.uniform(0, 14, size=n_samples)\n",
    "p_X = 1 - X / 14\n",
    "Y= np.random.binomial(1, p_X)\n",
    "\n",
    "def f_star(x):\n",
    "    return (x < 7).astype(int)\n",
    "\n",
    "def f_tilde(x):\n",
    "    return (x < 5).astype(int)\n",
    "\n",
    "preds_bayes = f_star(X)\n",
    "preds_tilde = f_tilde(X)\n",
    "\n",
    "risk_star = np.mean(preds_bayes != Y)\n",
    "risk_tilde = np.mean(preds_tilde != Y)\n",
    "\n",
    "bayes_risk = 0.25\n",
    "\n",
    "results = pd.DataFrame({\n",
    "    \"Estimator\": [\"f*\", \"f~\", \"Bayes Risk\"],\n",
    "    \"Risk\": [risk_star, risk_tilde, bayes_risk]\n",
    "})\n",
    "results"
   ]
  }
 ],
 "metadata": {
  "kernelspec": {
   "display_name": "ing2",
   "language": "python",
   "name": "python3"
  },
  "language_info": {
   "codemirror_mode": {
    "name": "ipython",
    "version": 3
   },
   "file_extension": ".py",
   "mimetype": "text/x-python",
   "name": "python",
   "nbconvert_exporter": "python",
   "pygments_lexer": "ipython3",
   "version": "3.13.2"
  }
 },
 "nbformat": 4,
 "nbformat_minor": 5
}
