{
 "cells": [
  {
   "cell_type": "markdown",
   "id": "2cfc7baf",
   "metadata": {},
   "source": [
    "## Bayes Risk with Absolute Loss"
   ]
  },
  {
   "cell_type": "markdown",
   "id": "3f2f1373",
   "metadata": {},
   "source": [
    "### Question 0 (M)"
   ]
  },
  {
   "cell_type": "markdown",
   "id": "0af4257e",
   "metadata": {},
   "source": [
    "The proposed function is $f(x)=x^3$, since the derivative is $f^{'}(x)=2x^2$.  \n",
    "Then, for $x_0=0$, $f^{'}(x_0)=0$ and $f(x_0)$ is not a local extremum."
   ]
  },
  {
   "cell_type": "markdown",
   "id": "90f10113",
   "metadata": {},
   "source": [
    "### Question 1 (M + C)"
   ]
  },
  {
   "cell_type": "markdown",
   "id": "4b0a83b8",
   "metadata": {},
   "source": [
    "To simplify the problem we propose a case where $Y$ is independant.\n",
    "We modelise $Y$ as $X \\leadsto Exp(1)$, that could be for example a waiting time in a line.\n",
    "\n",
    "For the squared loss, we have $f^{*}_{l_{squared}}(x)=E[Y|X=x]=E[Y]=1$  \n",
    "For the absolute loss, we have $f^{*}_{l_{absolute}}(x)=\\ln(2)$ (The median of $Y$)  \n",
    "The estimator of the asolute loss can be found using $P(Y \\le z | X = x) = \\frac{1}{2}$ (Result proven in Question 2).  \n",
    "Then, $P(Y \\le z | X = x) = \\frac{1}{2} \\Leftrightarrow 1 - e^{-m} = \\frac{1}{2} \\Leftrightarrow -m = \\ln(\\frac{1}{2}) \\Leftrightarrow m = \\ln(2)$\n",
    "\n",
    "Hence, we have $f^{*}_{l_{squared}} \\ne f^{*}_{l_{absolute}}$"
   ]
  },
  {
   "cell_type": "markdown",
   "id": "51fff9be",
   "metadata": {},
   "source": [
    "### Question 2 (M)"
   ]
  },
  {
   "cell_type": "markdown",
   "id": "4f048a5a",
   "metadata": {},
   "source": [
    "We want to find the bayes predictor of the absolute loss, $f^{*}_{absolute}(x)=\\underset{z\\in\\R}{\\arg\\min}\\; g(z)$. This is equivalent to find the point $g'(z)=0$.\n",
    "\n",
    "$\\frac{d\\;g(z)}{dz} = \\frac{d}{dz} \\int_{\\R}{|y-z|p_{Y|X=x}(y)}\\;dy = \\int_{-\\infty}^{z}{(-1)p_{Y|X=x}(y)}\\;dy + \\int_{z}^{\\infty}{(1)p_{Y|X=x}(y)}\\;dy$\n",
    "\n",
    "Then,  \n",
    "$g'(z)=0 \\Leftrightarrow \\int_{-\\infty}^{z}{p_{Y|X=x}(y)}\\;dy = \\int_{z}^{\\infty}{p_{Y|X=x}(y)}\\;dy$  \n",
    "&emsp;&emsp;&emsp;&emsp;&emsp;$\\Leftrightarrow \\int_{-\\infty}^{z}{p_{Y|X=x}(y)}\\;dy = \\int_{z}^{\\infty}{p_{Y|X=x}(y)}\\;dy$  \n",
    "&emsp;&emsp;&emsp;&emsp;&emsp;$\\Leftrightarrow F_{Y|X=x}(z) = 1 - F_{Y|X=x}(z)$  \n",
    "&emsp;&emsp;&emsp;&emsp;&emsp;$\\Leftrightarrow F_{Y|X=x}(z) = \\frac{1}{2}$\n",
    "\n",
    "Finally,  \n",
    "$f^{*}_{absolute}(x) \\in \\{ z \\in \\R, P(Y \\le z | X = x) = \\frac{1}{2}\\} $ (since $p_{Y|X=x}$ is continuous)  \n",
    "\n",
    "We can then conculde that $f^{*}_{absolute}(x)$ is the posterior median of $Y|X=x$."
   ]
  }
 ],
 "metadata": {
  "language_info": {
   "name": "python"
  }
 },
 "nbformat": 4,
 "nbformat_minor": 5
}
